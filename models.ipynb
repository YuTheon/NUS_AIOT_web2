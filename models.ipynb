{
 "cells": [
  {
   "cell_type": "code",
   "execution_count": 1,
   "metadata": {},
   "outputs": [
    {
     "name": "stdout",
     "output_type": "stream",
     "text": [
      "acc 0.5384615384615384\n"
     ]
    }
   ],
   "source": [
    "# dict {'5': 27, '6': 11, '4': 4, '9': 17, '8': 30, '7': 31}\n",
    "\"\"\"\n",
    "    1. get data, label\n",
    "    2. split to train/test\n",
    "    3. train svmc\n",
    "    4. test, show acc\n",
    "\"\"\"\n",
    "from setMysqlData import *\n",
    "import numpy as np\n",
    "import random\n",
    "from sklearn.model_selection import train_test_split\n",
    "from sklearn import svm\n",
    "\n",
    "rng = np.random.RandomState(0)\n",
    "\n",
    "mydb = connectDatabase(\"smartBottle\")\n",
    "result = getAllData(mydb, \"drinkDataEnhan\")\n",
    "x = list()\n",
    "y = list()\n",
    "for line in result:\n",
    "    data = [float(num) for num in line[1].split(',')]\n",
    "    label = [float(num) for num in line[2].split(',')]\n",
    "    x.append(data)\n",
    "    y.append(int(sum(label)/10))\n",
    "X = np.array(x)\n",
    "Y = np.array(y)\n",
    "X_train, X_test, y_train, y_test = train_test_split(X, Y, train_size=0.8, random_state=rng)\n",
    "# (100, 70) (20, 70) (100,) (20,)\n",
    "clf = svm.SVC()\n",
    "clf.fit(X_train, y_train)\n",
    "pre = clf.predict(X_test)\n",
    "# print(pre)\n",
    "# print(y_test)\n",
    "count = sum(x == y for x, y in zip(pre, y_test))\n",
    "print(f'acc {count / len(pre)}')\n",
    "\n"
   ]
  },
  {
   "cell_type": "code",
   "execution_count": 7,
   "metadata": {},
   "outputs": [],
   "source": [
    "import os\n",
    "from setMysqlData import *\n",
    "import pandas as pd\n",
    "mydb = connectDatabase(\"smartBottle\")\n",
    "mycursor = mydb.cursor()\n",
    "deleSql = \"delete from drinkData\"\n",
    "mycursor.execute(deleSql)\n",
    "mydb.commit()\n",
    "path = \"./data/\"\n",
    "\"\"\"\n",
    "需要筛选的只是标记了50ml但是S/E相同\n",
    "\"\"\"\n",
    "files = os.scandir(path)\n",
    "for f in files:\n",
    "    df = pd.read_excel(f.path)\n",
    "    start, end = int(df.loc[0, 'S']), int(df.loc[0, 'E'])\n",
    "    drink = f.path.split('/')[-1].split('_')[0]\n",
    "    if drink not in ['Stable', 'Walk']:\n",
    "        if start == end:\n",
    "            continue\n",
    "        drink = int(drink[:-2])\n",
    "    else:\n",
    "        drink = 0\n",
    "    y = df.loc[:, 'Y']\n",
    "    z = df.loc[:, 'Z']\n",
    "    y = [str(round(num/1080, 3)) for num in y]\n",
    "    z = [str(round(num/1080, 3)) for num in z]\n",
    "    label = ['0' for i in range(len(y))]\n",
    "    for i in range(start-1, end-1):\n",
    "        label[i] = str(round(drink / (end - start), 3))\n",
    "    data_y = ','.join(y)\n",
    "    data_z = ','.join(z)\n",
    "    label  = ','.join(label)\n",
    "    sql = \"insert into drinkData (user_id, data_y, data_z, label) VALUES(%s, %s, %s, %s)\"\n",
    "    val = (1, data_y, data_z, label)\n",
    "    mycursor.execute(sql, val)\n",
    "mydb.commit()\n",
    "\n"
   ]
  },
  {
   "cell_type": "code",
   "execution_count": 6,
   "metadata": {},
   "outputs": [
    {
     "data": {
      "text/plain": [
       "10.0"
      ]
     },
     "execution_count": 6,
     "metadata": {},
     "output_type": "execute_result"
    }
   ],
   "source": [
    "a = '100ml'\n",
    "b = int(a[:-2])\n",
    "c = b / 10\n",
    "c"
   ]
  }
 ],
 "metadata": {
  "kernelspec": {
   "display_name": "nusSoC",
   "language": "python",
   "name": "python3"
  },
  "language_info": {
   "codemirror_mode": {
    "name": "ipython",
    "version": 3
   },
   "file_extension": ".py",
   "mimetype": "text/x-python",
   "name": "python",
   "nbconvert_exporter": "python",
   "pygments_lexer": "ipython3",
   "version": "3.8.16"
  },
  "orig_nbformat": 4
 },
 "nbformat": 4,
 "nbformat_minor": 2
}
